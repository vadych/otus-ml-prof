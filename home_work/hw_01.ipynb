{
 "cells": [
  {
   "cell_type": "markdown",
   "id": "91e0e3ea",
   "metadata": {},
   "source": [
    "Чем лучше бустить? Тестируем алгоритмы бустинга в бою.\n",
    "\n",
    "Цель:\n",
    "В этом домашнем задании вам предстоит провести детективную работу и узнать, какой же алгоритм бустинга работает лучше всего (конечно, применительно к конкретной задаче).\n"
   ]
  },
  {
   "cell_type": "markdown",
   "id": "d4c8e684",
   "metadata": {},
   "source": [
    "# Часть 1. EDA\n",
    "\n",
    "Выберите любой интересующий вас датасет по классификации или регрессии (можно взять из репозитория https://archive.ics.uci.edu/ml/datasets.php, еще неплохие и востребованные на практике варианты - предсказание оттока пользователей https://www.kaggle.com/blastchar/telco-customer-churn или предсказание Customer Livetime Value (CLV или LTV) - https://www.kaggle.com/pankajjsh06/ibm-watson-marketing-customer-value-data\n",
    "По выбранному датасету проведите EDA, познакомьтесь с признаками, посмотрите зависимости и т.д."
   ]
  },
  {
   "cell_type": "markdown",
   "id": "8be99c27",
   "metadata": {},
   "source": [
    "# Часть 2. Preprocessing & Feature Engineering\n",
    "\n",
    "Хотя цель этого задания - посмотреть на работу алгоритмов, тем не менее пропускать препроцессинг нельзя :)\n",
    "Так что переведите категориальные переменные в уникальные лейблы при помощи LabelEncoder, попробуйте добавить новые переменные и выкинуть лишние и, наконец, разбейте данные на train-test."
   ]
  },
  {
   "cell_type": "markdown",
   "id": "cbcdbd3b",
   "metadata": {},
   "source": [
    "# Часть 3. Who's the mightiest of them all?\n",
    "\n",
    "Постройте 4 варианта градиентного бустинга, используя значения гиперпараметров “из коробки”: реализация из sklearn, XGBoost, CatBoost, LightGBM\n",
    "Проверьте качество на отложенной выборке, кто пока лидирует?\n",
    "Теперь проведите настройку гиперпараметров моделей на кросс-валидации, можно настраивать только самые основные гиперпараметры - число итераций бустинга, max_features, subsample и т.д.\n",
    "Снова проверьте качество уже настроенных моделей. Кто в итоге победил?"
   ]
  },
  {
   "cell_type": "markdown",
   "id": "2dd30aba",
   "metadata": {},
   "source": []
  }
 ],
 "metadata": {
  "kernelspec": {
   "display_name": ".venv",
   "language": "python",
   "name": "python3"
  },
  "language_info": {
   "name": "python",
   "version": "3.12.11"
  }
 },
 "nbformat": 4,
 "nbformat_minor": 5
}
